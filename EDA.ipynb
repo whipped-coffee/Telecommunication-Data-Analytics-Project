{
 "cells": [
  {
   "cell_type": "markdown",
   "metadata": {},
   "source": [
    "Importamos las librerías"
   ]
  },
  {
   "cell_type": "code",
   "execution_count": null,
   "metadata": {},
   "outputs": [],
   "source": [
    "import pandas as pd\n",
    "import matplotlib.pyplot as plt\n",
    "import seaborn as sns\n",
    "import warnings\n",
    "import datetime\n",
    "warnings.filterwarnings(\"ignore\")\n",
    "pd.set_option('display.float_format', lambda x: '%.6f' % x)"
   ]
  },
  {
   "cell_type": "markdown",
   "metadata": {},
   "source": [
    "# Conectividad por Localidad"
   ]
  },
  {
   "cell_type": "markdown",
   "metadata": {},
   "source": [
    "El primer análisis que realizaremos es en función a la conectividad por localidad "
   ]
  },
  {
   "cell_type": "markdown",
   "metadata": {},
   "source": [
    "Cargamos los datos"
   ]
  },
  {
   "cell_type": "code",
   "execution_count": null,
   "metadata": {},
   "outputs": [],
   "source": [
    "df_conectividad_por_localidad = pd.read_csv('_src/data/Lis_loc_conectividad_a_internet_2750221689173466318.csv', encoding='UTF-8')"
   ]
  },
  {
   "cell_type": "code",
   "execution_count": null,
   "metadata": {},
   "outputs": [],
   "source": [
    "df_conectividad_por_localidad"
   ]
  },
  {
   "cell_type": "markdown",
   "metadata": {},
   "source": [
    "Reemplazamos los carácteres '--' que representan sin conectividad a 'NO' para hacerlo mas explicito"
   ]
  },
  {
   "cell_type": "code",
   "execution_count": null,
   "metadata": {},
   "outputs": [],
   "source": [
    "df_conectividad_por_localidad = df_conectividad_por_localidad.replace('--','NO')"
   ]
  },
  {
   "cell_type": "markdown",
   "metadata": {},
   "source": [
    "Por motivos practicos crearemos una columna que explique si la localidad presenta o no conectividad a internet, por cualquier medio"
   ]
  },
  {
   "cell_type": "code",
   "execution_count": null,
   "metadata": {},
   "outputs": [],
   "source": [
    "sin_conectividad = (df_conectividad_por_localidad['ADSL'] == 'NO') & (df_conectividad_por_localidad['CABLEMODEM'] == 'NO') & (df_conectividad_por_localidad['DIALUP'] == 'NO') & (df_conectividad_por_localidad['FIBRAOPTICA'] == 'NO') & (df_conectividad_por_localidad['4G'] == 'NO') & (df_conectividad_por_localidad['3G'] == 'NO') & (df_conectividad_por_localidad['TELEFONIAFIJA'] == 'NO') & (df_conectividad_por_localidad['WIRELESS'] == 'NO') & (df_conectividad_por_localidad['SATELITAL'] == 'NO')\n",
    "df_conectividad_por_localidad['CONECTIVIDAD'] = 'SI'\n",
    "df_conectividad_por_localidad.loc[sin_conectividad, 'CONECTIVIDAD'] = 'NO'\n",
    "df_conectividad_por_localidad['CONECTIVIDAD'].value_counts()"
   ]
  },
  {
   "cell_type": "markdown",
   "metadata": {},
   "source": [
    "Para realizar un análisis del comportamiento en telecomunicaciones a nivel nacional vamos a primero visualizar el porcentaje de conexión a internet por provincia"
   ]
  },
  {
   "cell_type": "code",
   "execution_count": null,
   "metadata": {},
   "outputs": [],
   "source": [
    "df_conectividad_por_localidad.head(3)"
   ]
  },
  {
   "cell_type": "code",
   "execution_count": null,
   "metadata": {},
   "outputs": [],
   "source": [
    "df_conectividad_por_localidad.to_csv('_src/outputData/conectividad_por_localidad.csv', index=False)"
   ]
  },
  {
   "cell_type": "markdown",
   "metadata": {},
   "source": [
    "Primero creamos un df con cada provincia unica"
   ]
  },
  {
   "cell_type": "code",
   "execution_count": null,
   "metadata": {},
   "outputs": [],
   "source": [
    "prov_data = pd.DataFrame(df_conectividad_por_localidad['Provincia'].unique())\n",
    "prov_data.rename({0:'provincias'}, axis=1, inplace=True)"
   ]
  },
  {
   "cell_type": "markdown",
   "metadata": {},
   "source": [
    "Para cada provincia de ese Dataframe realizamos un conteo de las localidades que cuentan con conectividad a Internet y creamos un campo que explique el porcentaje de conectividad a nivel provincial"
   ]
  },
  {
   "cell_type": "code",
   "execution_count": null,
   "metadata": {},
   "outputs": [],
   "source": [
    "for provincia in prov_data['provincias']:\n",
    "    prov_data.loc[prov_data['provincias'] == provincia,'loc_conectadas'] = df_conectividad_por_localidad.loc[(df_conectividad_por_localidad['Provincia'] == provincia) & (df_conectividad_por_localidad['CONECTIVIDAD'] == 'SI'),'CONECTIVIDAD'].count()\n",
    "    prov_data.loc[prov_data['provincias'] == provincia,'loc_sin_conexion'] = df_conectividad_por_localidad.loc[(df_conectividad_por_localidad['Provincia'] == provincia) & (df_conectividad_por_localidad['CONECTIVIDAD'] == 'NO'),'CONECTIVIDAD'].count()\n",
    "prov_data['porcentaje_conexion'] = round((prov_data['loc_conectadas'] / (prov_data['loc_conectadas'] + prov_data['loc_sin_conexion'])),2) \n",
    "\n",
    "prov_data['loc_conectadas'] = prov_data['loc_conectadas'].astype(int)\n",
    "prov_data['loc_sin_conexion'] = prov_data['loc_sin_conexion'].astype(int)\n",
    "prov_data['porcentaje_conexion'] = prov_data['porcentaje_conexion'].astype(float)\n"
   ]
  },
  {
   "cell_type": "code",
   "execution_count": null,
   "metadata": {},
   "outputs": [],
   "source": [
    "sns.set()\n",
    "plt.scatter(prov_data['porcentaje_conexion'], prov_data['provincias'])\n",
    "plt.xlabel('porcentaje de conectividad')\n",
    "plt.ylabel('provincias');"
   ]
  },
  {
   "cell_type": "markdown",
   "metadata": {},
   "source": [
    "Hay provincias en las cuales la conexion a internet es casi o completa como en CABA, SANTA CRUZ, CORRIENTES, SANTA FE.\n",
    "Y otras en las que no cuentan con mucha conectividad como CATAMARCA, LA RIOJA, SAN LUIS. Esto puede deberse a distintos factores, pero antes de sacar conclusiones sigamos analizando un poco mas a detalle"
   ]
  },
  {
   "cell_type": "markdown",
   "metadata": {},
   "source": [
    "Veamos como se comportan las conexiones por tecnología a nivel provincial"
   ]
  },
  {
   "cell_type": "code",
   "execution_count": null,
   "metadata": {},
   "outputs": [],
   "source": [
    "conexiones = ['ADSL','CABLEMODEM', 'DIALUP', 'FIBRAOPTICA', '4G', '3G', 'TELEFONIAFIJA', 'WIRELESS', 'SATELITAL']\n",
    "for provincia in prov_data['provincias']:\n",
    "    for conexion in conexiones:\n",
    "        prov_data.loc[prov_data['provincias'] == provincia, conexion] = df_conectividad_por_localidad.loc[(df_conectividad_por_localidad['Provincia'] == provincia) & (df_conectividad_por_localidad[conexion] == 'SI')].count()[0]\n",
    "\n",
    "for conexion in conexiones:\n",
    "    prov_data[conexion] = round(prov_data[conexion] / prov_data['loc_conectadas'], 2)"
   ]
  },
  {
   "cell_type": "code",
   "execution_count": null,
   "metadata": {},
   "outputs": [],
   "source": [
    "prov_data.head(3)"
   ]
  },
  {
   "cell_type": "markdown",
   "metadata": {},
   "source": [
    "Ahora basandonos en el gráfico anteriormente realizado, busquemos aquellas provincias cuyo umbral de conexión sea menor a 0.77"
   ]
  },
  {
   "cell_type": "code",
   "execution_count": null,
   "metadata": {},
   "outputs": [],
   "source": [
    "prov_data.loc[prov_data['porcentaje_conexion'] < 0.77]"
   ]
  },
  {
   "cell_type": "markdown",
   "metadata": {},
   "source": [
    "Conclusiones:\n",
    "\n",
    "#### `Misiones`:\n",
    "En Misiones, el porcentaje de conexión es del `75%`, lo que indica una conectividad ligeramente debajo del promedio en general.\n",
    "Los tipos de ``conexiones predominantes`` en Misiones son ``4G, TELEFONIAFIJA y WIRELESS``, con valores de 0.80, 0.55 y 0.46 respectivamente.\n",
    "Estos datos sugieren que ``la conectividad en Misiones se encuentra en su mayoria en tecnologías inalámbricas y telefónicas.``. \n",
    "\n",
    "#### `Jujuy`:\n",
    "En Jujuy, el porcentaje de conexión es del `61%`, lo que indica una baja conectividad en general.\n",
    "Los tipos de ``conexiones predominantes`` en Jujuy ``son FIBRAOPTICA, 4G y SATELITAL``, con valores de 0.45, 0.46 y 0.45 respectivamente.\n",
    "Estos datos sugieren que ``la conectividad en Jujuy es variada pero faltan llegar a algunas localidades aún.``. \n",
    "\n",
    "### ``San Luis``:\n",
    "San Luis tiene un porcentaje de conexión del 46%, lo que indica una baja conectividad en comparación con otras provincias.\n",
    "El tipo de ``conexión predominante en San Luis es WIRELESS, con un valor de 0.84``.\n",
    "Otros tipos de conexiones presentes en San Luis, aunque en menor medida, son ADSL, CABLEMODEM, DIALUP, FIBRAOPTICA, 4G, 3G, TELEFONIAFIJA y SATELITAL, con valores que van desde 0.10 hasta 0.39.\n",
    "``Estos datos sugieren que en San Luis, la conectividad está principalmente basada en conexiones inalámbricas (WIRELESS)``. Esto indica que la infraestructura de conectividad en la provincia puede depender en gran medida de tecnologías inalámbricas para proporcionar acceso a internet.\n",
    "\n",
    "### ``Tierra del Fuego``:\n",
    "\n",
    "Tierra del Fuego tiene un porcentaje de conexión del 38%, lo que indica una baja conectividad en comparación con otras provincias.\n",
    "``El tipo de conexión predominante en Tierra del Fuego es 4G, con un valor de 1.00``.\n",
    "Otros tipos de conexiones presentes en Tierra del Fuego, aunque en menor medida, son ADSL, CABLEMODEM, DIALUP, FIBRAOPTICA, 3G, TELEFONIAFIJA y SATELITAL, con valores que van desde 0.33 hasta 0.50.\n",
    "Estos datos sugieren que en Tierra del Fuego, ``la conectividad está principalmente basada en conexiones móviles de 4G``. Esto indica que la infraestructura de conectividad terrestre en la provincia puede estar enfocada en proporcionar conectividad a través de redes móviles de alta velocidad.\n",
    "\n",
    "### ``La Rioja``:\n",
    "\n",
    "En La Rioja, el porcentaje de conexión es del 71%, lo que indica una conectividad relativamente mejor en comparación con las provincias anteriores.\n",
    "El tipo de conexión predominante en La Rioja es WIRELESS, con un valor de 0.80.\n",
    "Otros tipos de conexiones presentes en La Rioja, aunque en menor medida, son ADSL, CABLEMODEM, DIALUP, FIBRAOPTICA, 4G, 3G, TELEFONIAFIJA y SATELITAL, con valores que van desde 0.20 hasta 0.55.\n",
    "Estos datos sugieren que en La Rioja, la conectividad está basada principalmente en conexiones inalámbricas (WIRELESS).\n",
    "\n",
    "### ``Catamarca``:\n",
    "Catamarca tiene un porcentaje de conexión del 51%, lo que indica una conectividad moderada en comparación con las otras provincias mencionadas.\n",
    "Los tipos de conexiones más predominantes en Catamarca son 4G, SATELITAL, con valores de 0.61 y 0.52 respectivamente.\n",
    "Estos datos sugieren que en Catamarca, la conectividad se basa en conexiones 4G y SATELITAL.\n",
    "\n",
    "Un factor que puede ser indicativo de la baja conectividad a nivel provincial puede ser dada debido a la falta de disponibilidad de redes alternativas a las telefónicas o inalambricas, así como también la falta de infraestructura para la implementación de las mismas.\n"
   ]
  },
  {
   "cell_type": "markdown",
   "metadata": {},
   "source": [
    "# Provincias con menor alcance de Fibra Óptica"
   ]
  },
  {
   "cell_type": "markdown",
   "metadata": {},
   "source": [
    "Siendo la Fibra Óptica el mejor medio actualmente para la transmisión de información veamos cuales son aquellas provincias con menor disposición de esta tecnología a ver si podemos ver alguna relacion o información interesante"
   ]
  },
  {
   "cell_type": "code",
   "execution_count": null,
   "metadata": {},
   "outputs": [],
   "source": [
    "prov_data.sort_values('FIBRAOPTICA', ascending=True).head(5)"
   ]
  },
  {
   "cell_type": "markdown",
   "metadata": {},
   "source": [
    "Podemos observar que en aquellas provincias cuya conectivad de Fibra Óptica es baja, tiende a prevalecer las conexiones telefónicas, como el 4g, o tecnologías inalámbricas: Satelital y Wireless"
   ]
  },
  {
   "cell_type": "markdown",
   "metadata": {},
   "source": [
    "# Ingresos por la prestacion del servicio de internet"
   ]
  },
  {
   "cell_type": "markdown",
   "metadata": {},
   "source": [
    "Realizemos un análisis de los ingresos por la prestacion del servicio de internet"
   ]
  },
  {
   "cell_type": "code",
   "execution_count": null,
   "metadata": {},
   "outputs": [],
   "source": [
    "ingresos_trim = pd.read_csv('_src/data/Internet_Ingresos_trimestrales.csv')\n",
    "ingresos_trim.head(10)"
   ]
  },
  {
   "cell_type": "markdown",
   "metadata": {},
   "source": [
    "A simple vista podemos notar que a medida que aumenta el año tambien los ingresos, esto sugiere a que puede haber una relación lineal entre estas variables. Debido a esto realizaremos un modelo que nos ayude a estimar el ingreso del proximo trimestre"
   ]
  },
  {
   "cell_type": "code",
   "execution_count": null,
   "metadata": {},
   "outputs": [],
   "source": [
    "ingresos_trim.dtypes"
   ]
  },
  {
   "cell_type": "markdown",
   "metadata": {},
   "source": [
    "Cambiamos el formato y tipo de los datos para realizar nuestro análisis"
   ]
  },
  {
   "cell_type": "code",
   "execution_count": null,
   "metadata": {},
   "outputs": [],
   "source": [
    "ingresos_trim['Ingresos (miles de pesos)'] = ingresos_trim['Ingresos (miles de pesos)'].str.replace('.','')\n",
    "ingresos_trim['Ingresos (miles de pesos)'] = ingresos_trim['Ingresos (miles de pesos)'].astype(int)"
   ]
  },
  {
   "cell_type": "markdown",
   "metadata": {},
   "source": [
    "Creamos la columna index la cual nos ayudará con el modelo al darle una relación mas lineal a los datos"
   ]
  },
  {
   "cell_type": "code",
   "execution_count": null,
   "metadata": {},
   "outputs": [],
   "source": [
    "ingresos_trim['index'] = sorted(ingresos_trim.index, reverse=True)"
   ]
  },
  {
   "cell_type": "code",
   "execution_count": null,
   "metadata": {},
   "outputs": [],
   "source": [
    "ingresos_trim.head(5)"
   ]
  },
  {
   "cell_type": "markdown",
   "metadata": {},
   "source": [
    "Creamos nuestro dataframe que utilizaremos para el modelo"
   ]
  },
  {
   "cell_type": "code",
   "execution_count": null,
   "metadata": {},
   "outputs": [],
   "source": [
    "model_data = ingresos_trim[['Ingresos (miles de pesos)','index']].copy()"
   ]
  },
  {
   "cell_type": "code",
   "execution_count": null,
   "metadata": {},
   "outputs": [],
   "source": [
    "mapa = model_data.corr()\n",
    "mapa.style.background_gradient(cmap='coolwarm')"
   ]
  },
  {
   "cell_type": "markdown",
   "metadata": {},
   "source": [
    "Importamos las librerías necesarias para realizar el modelo"
   ]
  },
  {
   "cell_type": "code",
   "execution_count": null,
   "metadata": {},
   "outputs": [],
   "source": [
    "from sklearn.preprocessing import PolynomialFeatures\n",
    "from sklearn.linear_model import LinearRegression"
   ]
  },
  {
   "cell_type": "markdown",
   "metadata": {},
   "source": [
    "Definimos las variables independientes y la objetivo"
   ]
  },
  {
   "cell_type": "code",
   "execution_count": null,
   "metadata": {},
   "outputs": [],
   "source": [
    "x2 = model_data['index'].values\n",
    "X = x2.reshape(-1,1)\n",
    "y = model_data['Ingresos (miles de pesos)'].values"
   ]
  },
  {
   "cell_type": "markdown",
   "metadata": {},
   "source": [
    "Transformamos la variable independiente para que está sea adecuada para la regresión polinómica"
   ]
  },
  {
   "cell_type": "code",
   "execution_count": null,
   "metadata": {},
   "outputs": [],
   "source": [
    "poly = PolynomialFeatures(8, include_bias=False)\n",
    "\n",
    "Xpol = poly.fit_transform(X)"
   ]
  },
  {
   "cell_type": "code",
   "execution_count": null,
   "metadata": {},
   "outputs": [],
   "source": [
    "# Instanciamos un nuevo modelo de regresión lineal, pero ahora tendrá los atributos polinómicos que definimos en la celda anterior\n",
    "reg_2 = LinearRegression()\n",
    "\n",
    "# Entrenamos la regresión con los atributos X polinómicos \n",
    "reg_2.fit(Xpol, y)\n",
    "\n",
    "y_pred = reg_2.predict(Xpol)"
   ]
  },
  {
   "cell_type": "markdown",
   "metadata": {},
   "source": [
    "Notemos que el modelo fue entrenado con la totalidad de los datos, esto se debe a que debido a la poca cantidad de datos que tenemos, y que queremos predecir lo mas exactamente los ingresos proximos con los datos que contamos"
   ]
  },
  {
   "cell_type": "code",
   "execution_count": null,
   "metadata": {},
   "outputs": [],
   "source": [
    "plt.figure(figsize = (40,8))\n",
    "plt.subplot(1,3,1)\n",
    "plt.scatter(X,y, s = 45, label = 'Datos')\n",
    "\n",
    "list1, list2 = zip(*sorted(zip(Xpol[:,0], y_pred)))\n",
    "plt.plot(list1, list2, '--', label ='Regresión', color='black')\n",
    "plt.legend();"
   ]
  },
  {
   "cell_type": "markdown",
   "metadata": {},
   "source": [
    "Realizamos la predicción del proximo trimestre en función a nuestro modelo"
   ]
  },
  {
   "cell_type": "code",
   "execution_count": null,
   "metadata": {},
   "outputs": [],
   "source": [
    "proximo_trim = poly.fit_transform([[35]])\n",
    "proximo_trim = (reg_2.predict(proximo_trim))"
   ]
  },
  {
   "cell_type": "code",
   "execution_count": null,
   "metadata": {},
   "outputs": [],
   "source": [
    "proximo_trim[0]"
   ]
  },
  {
   "cell_type": "markdown",
   "metadata": {},
   "source": [
    "Se estima un ingreso de 75.091.660 para el 4to trimestre del 2022."
   ]
  },
  {
   "cell_type": "code",
   "execution_count": null,
   "metadata": {},
   "outputs": [],
   "source": [
    "prov_data.to_csv('_src/outputData/porcentaje_conexion.csv',index=False)"
   ]
  },
  {
   "cell_type": "markdown",
   "metadata": {},
   "source": [
    "Exportamos nuestra predicción para utilizarla en el dashboard"
   ]
  },
  {
   "cell_type": "code",
   "execution_count": null,
   "metadata": {},
   "outputs": [],
   "source": [
    "prediccion = {'valor': [int(proximo_trim[0])]}\n",
    "prediccion_ing_prox_trim = pd.DataFrame(prediccion)"
   ]
  },
  {
   "cell_type": "code",
   "execution_count": null,
   "metadata": {},
   "outputs": [],
   "source": [
    "prediccion_ing_prox_trim.to_csv('_src/outputData/prediccion.csv', index=False)"
   ]
  },
  {
   "cell_type": "markdown",
   "metadata": {},
   "source": [
    "Con los datos del análisis y teniendo un panorama mas general del mercado ondaremos mas profundamente el análisis en conjunto con el dashboard."
   ]
  }
 ],
 "metadata": {
  "kernelspec": {
   "display_name": "Python 3",
   "language": "python",
   "name": "python3"
  },
  "language_info": {
   "codemirror_mode": {
    "name": "ipython",
    "version": 3
   },
   "file_extension": ".py",
   "mimetype": "text/x-python",
   "name": "python",
   "nbconvert_exporter": "python",
   "pygments_lexer": "ipython3",
   "version": "3.11.0"
  },
  "orig_nbformat": 4
 },
 "nbformat": 4,
 "nbformat_minor": 2
}
